{
  "nbformat": 4,
  "nbformat_minor": 0,
  "metadata": {
    "colab": {
      "name": "60050148_FINAL.ipynb",
      "provenance": []
    },
    "kernelspec": {
      "name": "python3",
      "display_name": "Python 3"
    },
    "language_info": {
      "name": "python"
    }
  },
  "cells": [
    {
      "cell_type": "markdown",
      "metadata": {
        "id": "A13PcoVPYkss"
      },
      "source": [
        "# ข้อ 1 "
      ]
    },
    {
      "cell_type": "code",
      "metadata": {
        "colab": {
          "base_uri": "https://localhost:8080/"
        },
        "id": "WP1LqpjeYoyq",
        "outputId": "b8af8b7c-f0ab-4648-8926-d8a797dc7e4b"
      },
      "source": [
        "name = input(\"Name: \")\n",
        "studentId = input(\"Student ID: \") \n",
        "\n",
        "# แกะตัวอักขระมาแล้วแปลงเป็น number จากนั้นหาผลรวม \n",
        "sum = 0 \n",
        "for character in studentId: \n",
        "  sum = sum + int(character)\n",
        "  \n",
        "sum_format = \"Sum: {}\"\n",
        "print(sum_format.format(sum))\n",
        "\n",
        "sum_mod = sum%5\n",
        "sum_mod_format =\"Sum%5: {}\"\n",
        "print(sum_mod_format.format(sum_mod))"
      ],
      "execution_count": null,
      "outputs": [
        {
          "output_type": "stream",
          "text": [
            "Name: Jiratchaya Suphapanit\n",
            "Student ID: 60050148\n",
            "Sum: 24\n",
            "Sum%5: 4\n"
          ],
          "name": "stdout"
        }
      ]
    },
    {
      "cell_type": "markdown",
      "metadata": {
        "id": "Zv4CLElGZWV2"
      },
      "source": [
        "# ข้อ 2 "
      ]
    },
    {
      "cell_type": "code",
      "metadata": {
        "colab": {
          "base_uri": "https://localhost:8080/"
        },
        "id": "MH7WrKmWZZjY",
        "outputId": "06bdede9-0797-4ed2-c7d3-429a1c9543d4"
      },
      "source": [
        "import numpy as np\n",
        "\n",
        "arr = np.random.rand(sum,2)\n",
        "arr = (arr*100).astype(int) \n",
        "print(arr)"
      ],
      "execution_count": null,
      "outputs": [
        {
          "output_type": "stream",
          "text": [
            "[[37 58]\n",
            " [54 79]\n",
            " [65 71]\n",
            " [10 88]\n",
            " [13 85]\n",
            " [ 4 17]\n",
            " [ 6 61]\n",
            " [80 61]\n",
            " [68 69]\n",
            " [85 17]\n",
            " [23  2]\n",
            " [95 57]\n",
            " [31  3]\n",
            " [41 98]\n",
            " [68 33]\n",
            " [27 71]\n",
            " [67 92]\n",
            " [55 38]\n",
            " [92 38]\n",
            " [80 17]\n",
            " [36 58]\n",
            " [62 29]\n",
            " [29 63]\n",
            " [45 71]]\n"
          ],
          "name": "stdout"
        }
      ]
    },
    {
      "cell_type": "markdown",
      "metadata": {
        "id": "5-syCm3mZ89S"
      },
      "source": [
        "# ข้อ 3\n"
      ]
    },
    {
      "cell_type": "code",
      "metadata": {
        "colab": {
          "base_uri": "https://localhost:8080/"
        },
        "id": "iZbDFexgaB5k",
        "outputId": "9623acb9-de4a-4106-bc7a-e3373f876528"
      },
      "source": [
        "import pandas as pd \n",
        "df =pd.DataFrame(arr,columns=['x','y'])\n",
        "print(df)\n",
        "df.to_csv(studentId+'.csv',index=False)"
      ],
      "execution_count": null,
      "outputs": [
        {
          "output_type": "stream",
          "text": [
            "     x   y\n",
            "0   37  58\n",
            "1   54  79\n",
            "2   65  71\n",
            "3   10  88\n",
            "4   13  85\n",
            "5    4  17\n",
            "6    6  61\n",
            "7   80  61\n",
            "8   68  69\n",
            "9   85  17\n",
            "10  23   2\n",
            "11  95  57\n",
            "12  31   3\n",
            "13  41  98\n",
            "14  68  33\n",
            "15  27  71\n",
            "16  67  92\n",
            "17  55  38\n",
            "18  92  38\n",
            "19  80  17\n",
            "20  36  58\n",
            "21  62  29\n",
            "22  29  63\n",
            "23  45  71\n"
          ],
          "name": "stdout"
        }
      ]
    },
    {
      "cell_type": "markdown",
      "metadata": {
        "id": "1GwdsURZaEjf"
      },
      "source": [
        "# ข้อ 4"
      ]
    },
    {
      "cell_type": "code",
      "metadata": {
        "colab": {
          "base_uri": "https://localhost:8080/"
        },
        "id": "d9VmEZqbaGti",
        "outputId": "8f431d1b-3346-4aa7-a92a-055e7632406f"
      },
      "source": [
        "import pandas as pd \n",
        "my_excel =pd.read_excel('Classification_Data.xlsx',sheet_name='Sport')\n",
        "print(type(my_excel))\n",
        "print(my_excel)"
      ],
      "execution_count": null,
      "outputs": [
        {
          "output_type": "stream",
          "text": [
            "<class 'pandas.core.frame.DataFrame'>\n",
            "   Weather        Player  Stadium       Sport\n",
            "0    Sunny  More than 10  Outdoor    Football\n",
            "1   Rainny   Less than 5   Indoor   Batminton\n",
            "2    Sunny   Less than 5   Indoor   Batminton\n",
            "3    Windy       5 to 10   Indoor  Basketball\n",
            "4   Rainny       5 to 10   Indoor  Basketball\n",
            "5    Windy  More than 10  Outdoor    Football\n",
            "6   Rainny  More than 11   Indoor    Football\n",
            "7    Sunny   Less than 5  Outdoor   Batminton\n",
            "8    Windy   Less than 5   Indoor   Batminton\n",
            "9   Rainny       5 to 10  Outdoor    Football\n",
            "10   Windy   Less than 5   Indoor   Batminton\n",
            "11   Windy        2 to 4   Indoor   Batminton\n",
            "12   Sunny       5 to 10   Indoor  Basketball\n",
            "13   Sunny       5 to 10  Outdoor  Basketball\n"
          ],
          "name": "stdout"
        }
      ]
    },
    {
      "cell_type": "markdown",
      "metadata": {
        "id": "VV__FxIvaHlS"
      },
      "source": [
        "# ข้อ 5"
      ]
    },
    {
      "cell_type": "code",
      "metadata": {
        "colab": {
          "base_uri": "https://localhost:8080/",
          "height": 314
        },
        "id": "MIdb7uWnaMBH",
        "outputId": "2215463f-ab8c-4711-e127-e22747fe50a4"
      },
      "source": [
        "import pandas as pd \n",
        "import matplotlib.pyplot as plt\n",
        "\n",
        "my_csv = pd.read_csv('60050148.csv')\n",
        "x = my_csv.to_numpy()\n",
        "print(type(my_csv))\n",
        "\n",
        "\n",
        "x_plot = x[:,0] \n",
        "y_plot =  x[:,1]\n",
        "plt.scatter(x_plot,y_plot)\n",
        "plt.title(\"Scatter plot\")\n",
        "plt.show\n",
        "\n",
        "\n",
        "\n"
      ],
      "execution_count": null,
      "outputs": [
        {
          "output_type": "stream",
          "text": [
            "<class 'pandas.core.frame.DataFrame'>\n"
          ],
          "name": "stdout"
        },
        {
          "output_type": "execute_result",
          "data": {
            "text/plain": [
              "<function matplotlib.pyplot.show>"
            ]
          },
          "metadata": {
            "tags": []
          },
          "execution_count": 12
        },
        {
          "output_type": "display_data",
          "data": {
            "image/png": "[encoded data removed]",
            "text/plain": [
              "<Figure size 432x288 with 1 Axes>"
            ]
          },
          "metadata": {
            "tags": [],
            "needs_background": "light"
          }
        }
      ]
    },
    {
      "cell_type": "markdown",
      "metadata": {
        "id": "iW9ejAVkaMYk"
      },
      "source": [
        "# ข้อ **6**   ได้ sum%5 = 4 "
      ]
    },
    {
      "cell_type": "code",
      "metadata": {
        "colab": {
          "base_uri": "https://localhost:8080/",
          "height": 1000
        },
        "id": "ZTNiFh90aOuj",
        "outputId": "e34c7ab6-3bad-4515-b949-4e1ce0141b52"
      },
      "source": [
        "# รัน ข้อ 4 ก่อน \n",
        "from collections import Counter as ct\n",
        "\n",
        "# column: Weather \n",
        "weather = my_excel['Weather']\n",
        "weather = ct(weather)\n",
        " \n",
        "weather_data =[weather['Rainny'],weather['Sunny'],weather['Windy']]\n",
        "weather_label =['Rainny','Sunny','Windy'] \n",
        "plt.pie(weather_data,labels=weather_label,autopct='%1.0f%%')\n",
        "plt.title(\"Weather\")\n",
        "plt.show()\n",
        "\n",
        "# column: Player \n",
        "player =my_excel['Player']\n",
        "player =ct(player) \n",
        "\n",
        "player_data =[player['5 to 10'],player['Less than 5'],player['More than 10'],player['More than 11']]\n",
        "player_label =['5 to 10','Less than 5','More than 10','More than 11']\n",
        "plt.pie(player_data,labels=player_label,autopct='%1.0f%%')\n",
        "plt.title(\"Player\")\n",
        "plt.show()\n",
        "\n",
        "#column: Stadium \n",
        "stadium = my_excel['Stadium'] \n",
        "stadium =ct(stadium) \n",
        "\n",
        "stadium_data =[stadium['Indoor'],stadium['Outdoor']]\n",
        "stadium_label =['Indoor','Outdoor']\n",
        "plt.pie(stadium_data,labels=stadium_label,autopct='%1.0f%%')\n",
        "plt.title(\"Stadium\")\n",
        "plt.show() \n",
        "\n",
        "#column: Sport \n",
        "sport = my_excel['Sport'] \n",
        "sport = ct(sport)  \n",
        "\n",
        "sport_data = [sport['Basketball'],sport['Batminton'],sport['Football']]\n",
        "sport_label = ['Basketball','Batminton','Football']\n",
        "plt.pie(sport_data,labels=sport_label,autopct='%1.0f%%')\n",
        "plt.title(\"Sport\")\n",
        "plt.show() \n",
        "\n",
        "\n",
        "\n"
      ],
      "execution_count": null,
      "outputs": [
        {
          "output_type": "display_data",
          "data": {
            "image/png": "[encoded data removed]",
            "text/plain": [
              "<Figure size 432x288 with 1 Axes>"
            ]
          },
          "metadata": {
            "tags": []
          }
        },
        {
          "output_type": "display_data",
          "data": {
            "image/png": "[encoded data removed]",
            "text/plain": [
              "<Figure size 432x288 with 1 Axes>"
            ]
          },
          "metadata": {
            "tags": []
          }
        },
        {
          "output_type": "display_data",
          "data": {
            "image/png": "[encoded data removed]",
            "text/plain": [
              "<Figure size 432x288 with 1 Axes>"
            ]
          },
          "metadata": {
            "tags": []
          }
        },
        {
          "output_type": "display_data",
          "data": {
            "image/png": "[encoded data removed]",
            "text/plain": [
              "<Figure size 432x288 with 1 Axes>"
            ]
          },
          "metadata": {
            "tags": []
          }
        }
      ]
    },
    {
      "cell_type": "markdown",
      "metadata": {
        "id": "5KwrsZjbaQAC"
      },
      "source": [
        "# ข้อ 7"
      ]
    },
    {
      "cell_type": "code",
      "metadata": {
        "colab": {
          "base_uri": "https://localhost:8080/",
          "height": 282
        },
        "id": "2aDhoZU_aSjF",
        "outputId": "8bbfb75e-eb34-40cf-8455-8672c586f1f5"
      },
      "source": [
        "#ให้นําข้อมูลที่ได้จากข้อ 5. มา plot Graph Line Plot ด้วย matplotlib\n",
        "\n",
        "plt.plot(x_plot,y_plot)\n",
        "plt.show "
      ],
      "execution_count": null,
      "outputs": [
        {
          "output_type": "execute_result",
          "data": {
            "text/plain": [
              "<function matplotlib.pyplot.show>"
            ]
          },
          "metadata": {
            "tags": []
          },
          "execution_count": 13
        },
        {
          "output_type": "display_data",
          "data": {
            "image/png": "[encoded data removed]",
            "text/plain": [
              "<Figure size 432x288 with 1 Axes>"
            ]
          },
          "metadata": {
            "tags": [],
            "needs_background": "light"
          }
        }
      ]
    },
    {
      "cell_type": "markdown",
      "metadata": {
        "id": "b009pTtJaS_i"
      },
      "source": [
        "# ข้อ 8"
      ]
    },
    {
      "cell_type": "code",
      "metadata": {
        "colab": {
          "base_uri": "https://localhost:8080/"
        },
        "id": "sDjGKnNraVd0",
        "outputId": "91f00805-25dc-4234-d66c-0e9611bf740c"
      },
      "source": [
        "\n",
        "#Regression Model โดย Model ที่สร้างให้ใช้ข้อมูลที่ได้จากข้อที่ 5\n",
        "import numpy as np\n",
        "import sklearn \n",
        "from sklearn.neighbors import KNeighborsRegressor\n",
        "import pandas as pd \n",
        "\n",
        "\n",
        "\n",
        "\n",
        "#ฟังก์ชั่นแกะตัวอักขระมาแล้วแปลงเป็น number จากนั้นหาผลรวม\n",
        "def sum_str(a):\n",
        "  sum = 0\n",
        "  for character in a :\n",
        "\n",
        "    sum = sum + int(character)\n",
        "  return sum \n",
        "\n",
        "# เครียมข้อมูล Test\n",
        "#studentId มาจากข้อ 1 \n",
        "a = sum_str(studentId[0:4])\n",
        "b = sum_str(studentId[4:8])\n",
        "\n",
        "# เตรียมข้อมูล train \n",
        "# x_plot y_plot มาจากข้อ 5 \n",
        "x_train = [] \n",
        "y_validation = y_plot\n",
        "for item in x_plot :\n",
        "  x =[item] \n",
        "  x_train.append(x)   \n",
        "\n",
        "\n",
        "x = np.array(x_train) \n",
        "y =np.array(y_validation)\n",
        "\n",
        "\n",
        "knr = KNeighborsRegressor(n_neighbors = 2) \n",
        "knr.fit(x,y)  #train\n",
        "knr.predict([[a]])\n",
        "knr.predict([[b]]) \n",
        "print('coefficient of determination R^2: ',knr.score(x_train,y_validation))\n",
        "\n",
        "\n",
        "\n"
      ],
      "execution_count": null,
      "outputs": [
        {
          "output_type": "stream",
          "text": [
            "coefficient of determination R^2:  0.5455343884683641\n"
          ],
          "name": "stdout"
        }
      ]
    },
    {
      "cell_type": "markdown",
      "metadata": {
        "id": "ZY4_WNl0aWIy"
      },
      "source": [
        "# ข้อ 9"
      ]
    },
    {
      "cell_type": "code",
      "metadata": {
        "colab": {
          "base_uri": "https://localhost:8080/"
        },
        "id": "-CbvgTYxaYBB",
        "outputId": "9e95c121-2e5c-4e98-ab07-0c167eead3ca"
      },
      "source": [
        "import pandas as pd \n",
        "import numpy as np\n",
        "import sklearn\n",
        "from sklearn.preprocessing import LabelEncoder \n",
        "from sklearn.ensemble import RandomForestClassifier\n",
        "\n",
        "#myexcel เป็นข้อมูลที่ได้มาจากข้อ 4 \n",
        "round = (len(my_excel))\n",
        "\n",
        "\n",
        "\"\"\"\n",
        "แปลง label เป็นค่าตัวเลขดังต่อไปนี้ \n",
        "Weather = {'Rainy':0, 'Sunny':1. 'Windy':2}\n",
        "Player = {'2 to 4':0, '5 to 10': 1, 'Less than 5':2, 'More than 10':3,'More than 11'}\n",
        "Stadium = {'Indoor':0, 'Outdoor':1}\n",
        "Sport = {'Basketball':0, 'batminton':1, 'Football':2}\n",
        "\"\"\"\n",
        "weather = LabelEncoder().fit_transform(my_excel['Weather'])\n",
        "player = LabelEncoder().fit_transform(my_excel['Player'])\n",
        "stadium = LabelEncoder().fit_transform(my_excel['Stadium']) \n",
        "sport = LabelEncoder().fit_transform(my_excel['Sport'])\n",
        "\n",
        "\n",
        "\n",
        " \n",
        "\n",
        "x_train = []\n",
        "y_train = []\n",
        "# เตรียมข้อมูล training ให้อยู่ในรูปแบบ [x,x,x]\n",
        "for index in range(round) : \n",
        "  x = [weather[index],player[index],stadium[index]]\n",
        "  x_train.append(x) \n",
        "\n",
        "\n",
        "\n",
        "# เตรียมผลคำตอบ \n",
        "for index in sport:\n",
        "  y_train.append(index) \n",
        "\n",
        "X_train =np.array(x_train)\n",
        "Y_train =np.array(y_train)\n",
        "\n",
        "\n",
        "# (Sunny, 5 to 10, Indoor) = 'Sunny':1, '5 to 10':1, 'Indoor':0 \n",
        "rfc =RandomForestClassifier(criterion ='entropy')\n",
        "rfc.fit(X_train,Y_train)\n",
        "# print(rfc.predict([[1,1,0]])) \n",
        "print('probability: ',rfc.predict_proba([[1,1,0]]))\n",
        "\n",
        "\n",
        "\n",
        "\n",
        "\n",
        "\n",
        "\n",
        "\n",
        "\n",
        "\n"
      ],
      "execution_count": null,
      "outputs": [
        {
          "output_type": "stream",
          "text": [
            "probability:  [[0.87 0.13 0.  ]]\n"
          ],
          "name": "stdout"
        }
      ]
    },
    {
      "cell_type": "markdown",
      "metadata": {
        "id": "yoUbWxZeaYdv"
      },
      "source": [
        "# ข้อ 10 "
      ]
    },
    {
      "cell_type": "code",
      "metadata": {
        "colab": {
          "base_uri": "https://localhost:8080/"
        },
        "id": "KVvy7P7vaaUF",
        "outputId": "d84b6482-84e0-4f94-bb25-c08de6ff9f40"
      },
      "source": [
        "import pandas as pd \n",
        "import matplotlib.pyplot as plt\n",
        "import numpy as np \n",
        "import sklearn \n",
        "from sklearn.cluster import DBSCAN \n",
        "\n",
        "my_csv = pd.read_csv('60050148.csv')\n",
        "x = my_csv.to_numpy()\n",
        "\n",
        "#เตรียมข้อมูล\n",
        "x_train =[]\n",
        "for item in x: \n",
        "  x_train.append(item) \n",
        "\n",
        "\n",
        "studentId ='60050148' \n",
        "# แกะตัวอักขระมาแล้วแปลงเป็น number จากนั้นหาผลรวม \n",
        "def sum_str(a):\n",
        "  sum = 0\n",
        "  for character in a :\n",
        "    sum = sum + int(character)\n",
        "  return sum \n",
        "\n",
        "# เครียมข้อมูล Test\n",
        "a = sum_str(studentId[0:4])\n",
        "b = sum_str(studentId[4:8])\n",
        "\n",
        "\n",
        "dbc =DBSCAN(eps =10,min_samples =2)\n",
        "dbc.fit(x_train) \n",
        "print('cluster label: ',dbc.labels_) \n",
        "print('predict: ',dbc.fit_predict([[a,b]])) \n",
        "\n"
      ],
      "execution_count": null,
      "outputs": [
        {
          "output_type": "stream",
          "text": [
            "cluster label:  [ 0 -1  1  2  2 -1 -1 -1  1  3  4 -1  4 -1  5  0 -1 -1 -1  3  0  5  0 -1]\n",
            "predict:  [-1]\n"
          ],
          "name": "stdout"
        }
      ]
    }
  ]
}